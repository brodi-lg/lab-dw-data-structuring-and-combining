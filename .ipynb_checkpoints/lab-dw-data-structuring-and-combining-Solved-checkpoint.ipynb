{
 "cells": [
  {
   "cell_type": "raw",
   "id": "a7eb1dda-de67-4723-be8d-f2f0925cc688",
   "metadata": {
    "id": "25d7736c-ba17-4aff-b6bb-66eba20fbf4e"
   },
   "source": [
    "Lab | Data Structuring and Combining Data"
   ]
  },
  {
   "cell_type": "markdown",
   "id": "d1973e9e-8be6-4039-b70e-d73ee0d94c99",
   "metadata": {
    "id": "d1973e9e-8be6-4039-b70e-d73ee0d94c99"
   },
   "source": [
    "Challenge 1: Combining & Cleaning Data\n",
    "In this challenge, we will be working with the customer data from an insurance company, as we did in the two previous labs. The data can be found here:\n",
    "\n",
    "https://raw.githubusercontent.com/data-bootcamp-v4/data/main/file1.csv\n",
    "But this time, we got new data, which can be found in the following 2 CSV files located at the links below.\n",
    "\n",
    "https://raw.githubusercontent.com/data-bootcamp-v4/data/main/file2.csv\n",
    "https://raw.githubusercontent.com/data-bootcamp-v4/data/main/file3.csv\n",
    "Note that you'll need to clean and format the new data.\n",
    "\n",
    "Observation:\n",
    "\n",
    "One option is to first combine the three datasets and then apply the cleaning function to the new combined dataset\n",
    "Another option would be to read the clean file you saved in the previous lab, and just clean the two new files and concatenate the three clean datasets\n"
   ]
  },
  {
   "cell_type": "markdown",
   "id": "31b8a9e7-7db9-4604-991b-ef6771603e57",
   "metadata": {
    "id": "31b8a9e7-7db9-4604-991b-ef6771603e57"
   },
   "source": [
    "# Challenge 1: Data Cleaning and Formatting"
   ]
  },
  {
   "cell_type": "markdown",
   "id": "81553f19-9f2c-484b-8940-520aff884022",
   "metadata": {
    "id": "81553f19-9f2c-484b-8940-520aff884022"
   },
   "source": [
    "## Exercise 1: Importing the cleaned dataframe #1 from the last exercise"
   ]
  },
  {
   "cell_type": "code",
   "execution_count": 6,
   "id": "50b9bc1c-f2c5-40c4-9697-9dc479450a0c",
   "metadata": {},
   "outputs": [],
   "source": [
    "import pandas as pd\n",
    "\n",
    "url = \"https://raw.githubusercontent.com/data-bootcamp-v4/data/main/file1.csv\""
   ]
  },
  {
   "cell_type": "code",
   "execution_count": 7,
   "id": "77e3849a-a927-4249-b383-3f83d2735b0a",
   "metadata": {},
   "outputs": [
    {
     "data": {
      "text/html": [
       "<div>\n",
       "<style scoped>\n",
       "    .dataframe tbody tr th:only-of-type {\n",
       "        vertical-align: middle;\n",
       "    }\n",
       "\n",
       "    .dataframe tbody tr th {\n",
       "        vertical-align: top;\n",
       "    }\n",
       "\n",
       "    .dataframe thead th {\n",
       "        text-align: right;\n",
       "    }\n",
       "</style>\n",
       "<table border=\"1\" class=\"dataframe\">\n",
       "  <thead>\n",
       "    <tr style=\"text-align: right;\">\n",
       "      <th></th>\n",
       "      <th>Customer</th>\n",
       "      <th>ST</th>\n",
       "      <th>GENDER</th>\n",
       "      <th>Education</th>\n",
       "      <th>Customer Lifetime Value</th>\n",
       "      <th>Income</th>\n",
       "      <th>Monthly Premium Auto</th>\n",
       "      <th>Number of Open Complaints</th>\n",
       "      <th>Policy Type</th>\n",
       "      <th>Vehicle Class</th>\n",
       "      <th>Total Claim Amount</th>\n",
       "    </tr>\n",
       "  </thead>\n",
       "  <tbody>\n",
       "    <tr>\n",
       "      <th>0</th>\n",
       "      <td>RB50392</td>\n",
       "      <td>Washington</td>\n",
       "      <td>NaN</td>\n",
       "      <td>Master</td>\n",
       "      <td>NaN</td>\n",
       "      <td>0.0</td>\n",
       "      <td>1000.0</td>\n",
       "      <td>1/0/00</td>\n",
       "      <td>Personal Auto</td>\n",
       "      <td>Four-Door Car</td>\n",
       "      <td>2.704934</td>\n",
       "    </tr>\n",
       "    <tr>\n",
       "      <th>1</th>\n",
       "      <td>QZ44356</td>\n",
       "      <td>Arizona</td>\n",
       "      <td>F</td>\n",
       "      <td>Bachelor</td>\n",
       "      <td>697953.59%</td>\n",
       "      <td>0.0</td>\n",
       "      <td>94.0</td>\n",
       "      <td>1/0/00</td>\n",
       "      <td>Personal Auto</td>\n",
       "      <td>Four-Door Car</td>\n",
       "      <td>1131.464935</td>\n",
       "    </tr>\n",
       "    <tr>\n",
       "      <th>2</th>\n",
       "      <td>AI49188</td>\n",
       "      <td>Nevada</td>\n",
       "      <td>F</td>\n",
       "      <td>Bachelor</td>\n",
       "      <td>1288743.17%</td>\n",
       "      <td>48767.0</td>\n",
       "      <td>108.0</td>\n",
       "      <td>1/0/00</td>\n",
       "      <td>Personal Auto</td>\n",
       "      <td>Two-Door Car</td>\n",
       "      <td>566.472247</td>\n",
       "    </tr>\n",
       "    <tr>\n",
       "      <th>3</th>\n",
       "      <td>WW63253</td>\n",
       "      <td>California</td>\n",
       "      <td>M</td>\n",
       "      <td>Bachelor</td>\n",
       "      <td>764586.18%</td>\n",
       "      <td>0.0</td>\n",
       "      <td>106.0</td>\n",
       "      <td>1/0/00</td>\n",
       "      <td>Corporate Auto</td>\n",
       "      <td>SUV</td>\n",
       "      <td>529.881344</td>\n",
       "    </tr>\n",
       "    <tr>\n",
       "      <th>4</th>\n",
       "      <td>GA49547</td>\n",
       "      <td>Washington</td>\n",
       "      <td>M</td>\n",
       "      <td>High School or Below</td>\n",
       "      <td>536307.65%</td>\n",
       "      <td>36357.0</td>\n",
       "      <td>68.0</td>\n",
       "      <td>1/0/00</td>\n",
       "      <td>Personal Auto</td>\n",
       "      <td>Four-Door Car</td>\n",
       "      <td>17.269323</td>\n",
       "    </tr>\n",
       "  </tbody>\n",
       "</table>\n",
       "</div>"
      ],
      "text/plain": [
       "  Customer          ST GENDER             Education Customer Lifetime Value  \\\n",
       "0  RB50392  Washington    NaN                Master                     NaN   \n",
       "1  QZ44356     Arizona      F              Bachelor              697953.59%   \n",
       "2  AI49188      Nevada      F              Bachelor             1288743.17%   \n",
       "3  WW63253  California      M              Bachelor              764586.18%   \n",
       "4  GA49547  Washington      M  High School or Below              536307.65%   \n",
       "\n",
       "    Income  Monthly Premium Auto Number of Open Complaints     Policy Type  \\\n",
       "0      0.0                1000.0                    1/0/00   Personal Auto   \n",
       "1      0.0                  94.0                    1/0/00   Personal Auto   \n",
       "2  48767.0                 108.0                    1/0/00   Personal Auto   \n",
       "3      0.0                 106.0                    1/0/00  Corporate Auto   \n",
       "4  36357.0                  68.0                    1/0/00   Personal Auto   \n",
       "\n",
       "   Vehicle Class  Total Claim Amount  \n",
       "0  Four-Door Car            2.704934  \n",
       "1  Four-Door Car         1131.464935  \n",
       "2   Two-Door Car          566.472247  \n",
       "3            SUV          529.881344  \n",
       "4  Four-Door Car           17.269323  "
      ]
     },
     "execution_count": 7,
     "metadata": {},
     "output_type": "execute_result"
    }
   ],
   "source": [
    "df = pd.read_csv(url)\n",
    "df.head()\n"
   ]
  },
  {
   "cell_type": "code",
   "execution_count": 8,
   "id": "5810735c-8056-4442-bbf2-dda38d3e284a",
   "metadata": {
    "id": "5810735c-8056-4442-bbf2-dda38d3e284a"
   },
   "outputs": [
    {
     "data": {
      "text/html": [
       "<div>\n",
       "<style scoped>\n",
       "    .dataframe tbody tr th:only-of-type {\n",
       "        vertical-align: middle;\n",
       "    }\n",
       "\n",
       "    .dataframe tbody tr th {\n",
       "        vertical-align: top;\n",
       "    }\n",
       "\n",
       "    .dataframe thead th {\n",
       "        text-align: right;\n",
       "    }\n",
       "</style>\n",
       "<table border=\"1\" class=\"dataframe\">\n",
       "  <thead>\n",
       "    <tr style=\"text-align: right;\">\n",
       "      <th></th>\n",
       "      <th>Customer</th>\n",
       "      <th>ST</th>\n",
       "      <th>GENDER</th>\n",
       "      <th>Education</th>\n",
       "      <th>Customer Lifetime Value</th>\n",
       "      <th>Income</th>\n",
       "      <th>Monthly Premium Auto</th>\n",
       "      <th>Number of Open Complaints</th>\n",
       "      <th>Policy Type</th>\n",
       "      <th>Vehicle Class</th>\n",
       "      <th>Total Claim Amount</th>\n",
       "    </tr>\n",
       "  </thead>\n",
       "  <tbody>\n",
       "    <tr>\n",
       "      <th>0</th>\n",
       "      <td>RB50392</td>\n",
       "      <td>Washington</td>\n",
       "      <td>NaN</td>\n",
       "      <td>Master</td>\n",
       "      <td>NaN</td>\n",
       "      <td>0.0</td>\n",
       "      <td>1000.0</td>\n",
       "      <td>1/0/00</td>\n",
       "      <td>Personal Auto</td>\n",
       "      <td>Four-Door Car</td>\n",
       "      <td>2.704934</td>\n",
       "    </tr>\n",
       "    <tr>\n",
       "      <th>1</th>\n",
       "      <td>QZ44356</td>\n",
       "      <td>Arizona</td>\n",
       "      <td>F</td>\n",
       "      <td>Bachelor</td>\n",
       "      <td>697953.59%</td>\n",
       "      <td>0.0</td>\n",
       "      <td>94.0</td>\n",
       "      <td>1/0/00</td>\n",
       "      <td>Personal Auto</td>\n",
       "      <td>Four-Door Car</td>\n",
       "      <td>1131.464935</td>\n",
       "    </tr>\n",
       "    <tr>\n",
       "      <th>2</th>\n",
       "      <td>AI49188</td>\n",
       "      <td>Nevada</td>\n",
       "      <td>F</td>\n",
       "      <td>Bachelor</td>\n",
       "      <td>1288743.17%</td>\n",
       "      <td>48767.0</td>\n",
       "      <td>108.0</td>\n",
       "      <td>1/0/00</td>\n",
       "      <td>Personal Auto</td>\n",
       "      <td>Two-Door Car</td>\n",
       "      <td>566.472247</td>\n",
       "    </tr>\n",
       "    <tr>\n",
       "      <th>3</th>\n",
       "      <td>WW63253</td>\n",
       "      <td>California</td>\n",
       "      <td>M</td>\n",
       "      <td>Bachelor</td>\n",
       "      <td>764586.18%</td>\n",
       "      <td>0.0</td>\n",
       "      <td>106.0</td>\n",
       "      <td>1/0/00</td>\n",
       "      <td>Corporate Auto</td>\n",
       "      <td>SUV</td>\n",
       "      <td>529.881344</td>\n",
       "    </tr>\n",
       "    <tr>\n",
       "      <th>4</th>\n",
       "      <td>GA49547</td>\n",
       "      <td>Washington</td>\n",
       "      <td>M</td>\n",
       "      <td>High School or Below</td>\n",
       "      <td>536307.65%</td>\n",
       "      <td>36357.0</td>\n",
       "      <td>68.0</td>\n",
       "      <td>1/0/00</td>\n",
       "      <td>Personal Auto</td>\n",
       "      <td>Four-Door Car</td>\n",
       "      <td>17.269323</td>\n",
       "    </tr>\n",
       "  </tbody>\n",
       "</table>\n",
       "</div>"
      ],
      "text/plain": [
       "  Customer          ST GENDER             Education Customer Lifetime Value  \\\n",
       "0  RB50392  Washington    NaN                Master                     NaN   \n",
       "1  QZ44356     Arizona      F              Bachelor              697953.59%   \n",
       "2  AI49188      Nevada      F              Bachelor             1288743.17%   \n",
       "3  WW63253  California      M              Bachelor              764586.18%   \n",
       "4  GA49547  Washington      M  High School or Below              536307.65%   \n",
       "\n",
       "    Income  Monthly Premium Auto Number of Open Complaints     Policy Type  \\\n",
       "0      0.0                1000.0                    1/0/00   Personal Auto   \n",
       "1      0.0                  94.0                    1/0/00   Personal Auto   \n",
       "2  48767.0                 108.0                    1/0/00   Personal Auto   \n",
       "3      0.0                 106.0                    1/0/00  Corporate Auto   \n",
       "4  36357.0                  68.0                    1/0/00   Personal Auto   \n",
       "\n",
       "   Vehicle Class  Total Claim Amount  \n",
       "0  Four-Door Car            2.704934  \n",
       "1  Four-Door Car         1131.464935  \n",
       "2   Two-Door Car          566.472247  \n",
       "3            SUV          529.881344  \n",
       "4  Four-Door Car           17.269323  "
      ]
     },
     "execution_count": 8,
     "metadata": {},
     "output_type": "execute_result"
    }
   ],
   "source": [
    "df1 = df.copy()\n",
    "df1.head()"
   ]
  },
  {
   "cell_type": "code",
   "execution_count": 9,
   "id": "459c2ee2-ef07-4ad8-a9ac-f0f3ff4e0b29",
   "metadata": {},
   "outputs": [
    {
     "data": {
      "text/html": [
       "<div>\n",
       "<style scoped>\n",
       "    .dataframe tbody tr th:only-of-type {\n",
       "        vertical-align: middle;\n",
       "    }\n",
       "\n",
       "    .dataframe tbody tr th {\n",
       "        vertical-align: top;\n",
       "    }\n",
       "\n",
       "    .dataframe thead th {\n",
       "        text-align: right;\n",
       "    }\n",
       "</style>\n",
       "<table border=\"1\" class=\"dataframe\">\n",
       "  <thead>\n",
       "    <tr style=\"text-align: right;\">\n",
       "      <th></th>\n",
       "      <th>customer</th>\n",
       "      <th>state</th>\n",
       "      <th>gender</th>\n",
       "      <th>education</th>\n",
       "      <th>customer_lifetime_value</th>\n",
       "      <th>income</th>\n",
       "      <th>monthly_premium_auto</th>\n",
       "      <th>number_of_open_complaints</th>\n",
       "      <th>policy_type</th>\n",
       "      <th>vehicle_class</th>\n",
       "      <th>total_claim_amount</th>\n",
       "    </tr>\n",
       "  </thead>\n",
       "  <tbody>\n",
       "    <tr>\n",
       "      <th>0</th>\n",
       "      <td>RB50392</td>\n",
       "      <td>Washington</td>\n",
       "      <td>NaN</td>\n",
       "      <td>Master</td>\n",
       "      <td>NaN</td>\n",
       "      <td>0.0</td>\n",
       "      <td>1000.0</td>\n",
       "      <td>1/0/00</td>\n",
       "      <td>Personal Auto</td>\n",
       "      <td>Four-Door Car</td>\n",
       "      <td>2.704934</td>\n",
       "    </tr>\n",
       "    <tr>\n",
       "      <th>1</th>\n",
       "      <td>QZ44356</td>\n",
       "      <td>Arizona</td>\n",
       "      <td>F</td>\n",
       "      <td>Bachelor</td>\n",
       "      <td>697953.59%</td>\n",
       "      <td>0.0</td>\n",
       "      <td>94.0</td>\n",
       "      <td>1/0/00</td>\n",
       "      <td>Personal Auto</td>\n",
       "      <td>Four-Door Car</td>\n",
       "      <td>1131.464935</td>\n",
       "    </tr>\n",
       "    <tr>\n",
       "      <th>2</th>\n",
       "      <td>AI49188</td>\n",
       "      <td>Nevada</td>\n",
       "      <td>F</td>\n",
       "      <td>Bachelor</td>\n",
       "      <td>1288743.17%</td>\n",
       "      <td>48767.0</td>\n",
       "      <td>108.0</td>\n",
       "      <td>1/0/00</td>\n",
       "      <td>Personal Auto</td>\n",
       "      <td>Two-Door Car</td>\n",
       "      <td>566.472247</td>\n",
       "    </tr>\n",
       "    <tr>\n",
       "      <th>3</th>\n",
       "      <td>WW63253</td>\n",
       "      <td>California</td>\n",
       "      <td>M</td>\n",
       "      <td>Bachelor</td>\n",
       "      <td>764586.18%</td>\n",
       "      <td>0.0</td>\n",
       "      <td>106.0</td>\n",
       "      <td>1/0/00</td>\n",
       "      <td>Corporate Auto</td>\n",
       "      <td>SUV</td>\n",
       "      <td>529.881344</td>\n",
       "    </tr>\n",
       "    <tr>\n",
       "      <th>4</th>\n",
       "      <td>GA49547</td>\n",
       "      <td>Washington</td>\n",
       "      <td>M</td>\n",
       "      <td>High School or Below</td>\n",
       "      <td>536307.65%</td>\n",
       "      <td>36357.0</td>\n",
       "      <td>68.0</td>\n",
       "      <td>1/0/00</td>\n",
       "      <td>Personal Auto</td>\n",
       "      <td>Four-Door Car</td>\n",
       "      <td>17.269323</td>\n",
       "    </tr>\n",
       "  </tbody>\n",
       "</table>\n",
       "</div>"
      ],
      "text/plain": [
       "  customer       state gender             education customer_lifetime_value  \\\n",
       "0  RB50392  Washington    NaN                Master                     NaN   \n",
       "1  QZ44356     Arizona      F              Bachelor              697953.59%   \n",
       "2  AI49188      Nevada      F              Bachelor             1288743.17%   \n",
       "3  WW63253  California      M              Bachelor              764586.18%   \n",
       "4  GA49547  Washington      M  High School or Below              536307.65%   \n",
       "\n",
       "    income  monthly_premium_auto number_of_open_complaints     policy_type  \\\n",
       "0      0.0                1000.0                    1/0/00   Personal Auto   \n",
       "1      0.0                  94.0                    1/0/00   Personal Auto   \n",
       "2  48767.0                 108.0                    1/0/00   Personal Auto   \n",
       "3      0.0                 106.0                    1/0/00  Corporate Auto   \n",
       "4  36357.0                  68.0                    1/0/00   Personal Auto   \n",
       "\n",
       "   vehicle_class  total_claim_amount  \n",
       "0  Four-Door Car            2.704934  \n",
       "1  Four-Door Car         1131.464935  \n",
       "2   Two-Door Car          566.472247  \n",
       "3            SUV          529.881344  \n",
       "4  Four-Door Car           17.269323  "
      ]
     },
     "execution_count": 9,
     "metadata": {},
     "output_type": "execute_result"
    }
   ],
   "source": [
    "df1.columns = df1.columns.str.lower().str.replace(\" \", \"_\") #changing to lower case and removing blanks\n",
    "df1.rename(columns = {\"st\":\"state\"},inplace = True)  #renaming columns\n",
    "df1.head()  #checking to see changes "
   ]
  },
  {
   "cell_type": "code",
   "execution_count": 12,
   "id": "3f8ee5cb-50ab-48af-8a9f-9a389804033c",
   "metadata": {
    "id": "3f8ee5cb-50ab-48af-8a9f-9a389804033c"
   },
   "outputs": [
    {
     "data": {
      "text/plain": [
       "array([nan, 'Female', 'Male'], dtype=object)"
      ]
     },
     "execution_count": 12,
     "metadata": {},
     "output_type": "execute_result"
    }
   ],
   "source": [
    "#cleaning gender values\n",
    "df1 [\"gender\"] = df1[\"gender\"].replace([\"F\", \"M\", \"Femal\", \"female\"],[\"Female\", \"Male\", \"Female\",\"Female\"])\n",
    "df1[\"gender\"].unique()  #testing gender changes"
   ]
  },
  {
   "cell_type": "code",
   "execution_count": 13,
   "id": "794317ee-14b3-4959-8b2b-8805a4c4f092",
   "metadata": {},
   "outputs": [
    {
     "data": {
      "text/plain": [
       "array(['Washington', 'Arizona', 'Nevada', 'California', 'Oregon', nan],\n",
       "      dtype=object)"
      ]
     },
     "execution_count": 13,
     "metadata": {},
     "output_type": "execute_result"
    }
   ],
   "source": [
    "#cleaning state column values\n",
    "\n",
    "df1 [\"state\"] = df1[\"state\"].replace([\"AZ\", \"Cali\", \"WA\"],[\"Arizona\", \"California\", \"Washington\"])\n",
    "df1 [\"state\"].unique() #testing changes"
   ]
  },
  {
   "cell_type": "code",
   "execution_count": 14,
   "id": "1676d010-e6f2-4b3c-b76b-eae5531a525d",
   "metadata": {},
   "outputs": [
    {
     "data": {
      "text/plain": [
       "array(['Master', 'Bachelor', 'High School or Below', 'College', 'Doctor',\n",
       "       nan], dtype=object)"
      ]
     },
     "execution_count": 14,
     "metadata": {},
     "output_type": "execute_result"
    }
   ],
   "source": [
    "#cleaning education column values\n",
    "\n",
    "df1 [\"education\"] = df1[\"education\"].replace(\"Bachelors\", \"Bachelor\")\n",
    "df1[\"education\"].unique()  #testing changes"
   ]
  },
  {
   "cell_type": "code",
   "execution_count": 15,
   "id": "02ff9c3e-aa3f-43db-b7b4-173aaa87e615",
   "metadata": {},
   "outputs": [
    {
     "data": {
      "text/plain": [
       "array([nan, '697953.59', '1288743.17', ..., '2031499.76', '323912.47',\n",
       "       '899704.02'], dtype=object)"
      ]
     },
     "execution_count": 15,
     "metadata": {},
     "output_type": "execute_result"
    }
   ],
   "source": [
    "#In Customer Lifetime Value, delete the % character\n",
    "\n",
    "df1['customer_lifetime_value'] = df1['customer_lifetime_value'].str.replace('%','')\n",
    "df1 [\"customer_lifetime_value\"].unique() "
   ]
  },
  {
   "cell_type": "code",
   "execution_count": 16,
   "id": "c83e595f-69f9-4382-b64f-47ed73d02d11",
   "metadata": {},
   "outputs": [
    {
     "data": {
      "text/plain": [
       "array(['Four-Door Car', 'Two-Door Car', 'SUV', 'Luxury', nan],\n",
       "      dtype=object)"
      ]
     },
     "execution_count": 16,
     "metadata": {},
     "output_type": "execute_result"
    }
   ],
   "source": [
    "#In vehicle class, \"Sports Car\", \"Luxury SUV\" and \"Luxury Car\" could be replaced by \"Luxury\"\n",
    "\n",
    "df1[\"vehicle_class\"] = df1[\"vehicle_class\"].replace([\"Sports Car\", \"Luxury SUV\", \"Luxury Car\"], \"Luxury\")\n",
    "df1 [\"vehicle_class\"].unique()     #cheque for unique values changes "
   ]
  },
  {
   "cell_type": "markdown",
   "id": "85ff78ce-0174-4890-9db3-8048b7d7d2d0",
   "metadata": {
    "id": "85ff78ce-0174-4890-9db3-8048b7d7d2d0"
   },
   "source": [
    "## Exercise 3: Formatting data types"
   ]
  },
  {
   "cell_type": "code",
   "execution_count": 21,
   "id": "eb8f5991-73e9-405f-bf1c-6b7c589379a9",
   "metadata": {
    "id": "eb8f5991-73e9-405f-bf1c-6b7c589379a9"
   },
   "outputs": [
    {
     "data": {
      "text/plain": [
       "dtype('float64')"
      ]
     },
     "execution_count": 21,
     "metadata": {},
     "output_type": "execute_result"
    }
   ],
   "source": [
    "#customer lifetime value to numeric\n",
    "df1[\"customer_lifetime_value\"] = pd.to_numeric(df1[\"customer_lifetime_value\"])\n",
    "df1[\"customer_lifetime_value\"].dtype"
   ]
  },
  {
   "cell_type": "code",
   "execution_count": 22,
   "id": "81834689-08e8-40bd-9789-e8b56a802f4f",
   "metadata": {},
   "outputs": [
    {
     "data": {
      "text/plain": [
       "array(['1/0/00', '1/2/00', '1/1/00', '1/3/00', '1/5/00', '1/4/00', nan],\n",
       "      dtype=object)"
      ]
     },
     "execution_count": 22,
     "metadata": {},
     "output_type": "execute_result"
    }
   ],
   "source": [
    "#open complaints format change \n",
    "df1 [\"number_of_open_complaints\"].unique()  #checking unique values\n"
   ]
  },
  {
   "cell_type": "code",
   "execution_count": 23,
   "id": "53e5127f-2ad1-4292-b3c1-e63ae88140a7",
   "metadata": {},
   "outputs": [
    {
     "data": {
      "text/plain": [
       "dtype('O')"
      ]
     },
     "execution_count": 23,
     "metadata": {},
     "output_type": "execute_result"
    }
   ],
   "source": [
    "#extracting values \n",
    "df1['number_of_open_complaints'] = df1['number_of_open_complaints'].str.split('/').str[1]\n",
    "df1 [\"number_of_open_complaints\"].dtype "
   ]
  },
  {
   "cell_type": "code",
   "execution_count": 24,
   "id": "5c98d24d-a19f-4f4b-bbd8-07136cda92c7",
   "metadata": {},
   "outputs": [
    {
     "data": {
      "text/plain": [
       "dtype('float64')"
      ]
     },
     "execution_count": 24,
     "metadata": {},
     "output_type": "execute_result"
    }
   ],
   "source": [
    "df1[\"number_of_open_complaints\"]= pd.to_numeric(df1[\"number_of_open_complaints\"], errors='coerce')\n",
    "df1 [\"number_of_open_complaints\"].dtype "
   ]
  },
  {
   "cell_type": "code",
   "execution_count": null,
   "id": "79a40e50-75be-495e-9701-35c72c815f6d",
   "metadata": {
    "id": "14c52e28-2d0c-4dd2-8bd5-3476e34fadc1"
   },
   "outputs": [],
   "source": [
    "#Dealing with Null values"
   ]
  },
  {
   "cell_type": "code",
   "execution_count": 27,
   "id": "f184fc35-7831-4836-a0a5-e7f99e01b40e",
   "metadata": {
    "id": "f184fc35-7831-4836-a0a5-e7f99e01b40e"
   },
   "outputs": [
    {
     "data": {
      "text/plain": [
       "customer                     2937\n",
       "state                        2937\n",
       "gender                       3054\n",
       "education                    2937\n",
       "customer_lifetime_value      2940\n",
       "income                       2937\n",
       "monthly_premium_auto         2937\n",
       "number_of_open_complaints    2937\n",
       "policy_type                  2937\n",
       "vehicle_class                2937\n",
       "total_claim_amount           2937\n",
       "dtype: int64"
      ]
     },
     "execution_count": 27,
     "metadata": {},
     "output_type": "execute_result"
    }
   ],
   "source": [
    "df1.isnull().sum()  #checking for nans"
   ]
  },
  {
   "cell_type": "code",
   "execution_count": 28,
   "id": "20ba12b0-6ce2-4432-ba01-a7e27b08ef4a",
   "metadata": {},
   "outputs": [],
   "source": [
    "#dropping nans\n",
    "df1.dropna(how = \"all\", inplace = True) #rows\n"
   ]
  },
  {
   "cell_type": "code",
   "execution_count": 29,
   "id": "d35a9391-af83-4dd2-a441-556d973f2b4f",
   "metadata": {},
   "outputs": [
    {
     "data": {
      "text/plain": [
       "customer                       0\n",
       "state                          0\n",
       "gender                       117\n",
       "education                      0\n",
       "customer_lifetime_value        3\n",
       "income                         0\n",
       "monthly_premium_auto           0\n",
       "number_of_open_complaints      0\n",
       "policy_type                    0\n",
       "vehicle_class                  0\n",
       "total_claim_amount             0\n",
       "dtype: int64"
      ]
     },
     "execution_count": 29,
     "metadata": {},
     "output_type": "execute_result"
    }
   ],
   "source": [
    "#rechecking nans\n",
    "\n",
    "df1.isnull().sum()"
   ]
  },
  {
   "cell_type": "code",
   "execution_count": 30,
   "id": "65a6b01a-ff04-409f-ba0f-16d90e3c313e",
   "metadata": {},
   "outputs": [
    {
     "data": {
      "text/plain": [
       "'Female'"
      ]
     },
     "execution_count": 30,
     "metadata": {},
     "output_type": "execute_result"
    }
   ],
   "source": [
    "mode_value = df1['gender'].mode()[0] #checking mode for gender column as it is a categorical column\n",
    "mode_value"
   ]
  },
  {
   "cell_type": "code",
   "execution_count": 31,
   "id": "59a54745-5ad0-40af-93d0-e586d6d71306",
   "metadata": {},
   "outputs": [
    {
     "name": "stderr",
     "output_type": "stream",
     "text": [
      "/var/folders/35/95bptg013g75yzs_np0t8xw00000gn/T/ipykernel_79310/2993391742.py:1: FutureWarning: A value is trying to be set on a copy of a DataFrame or Series through chained assignment using an inplace method.\n",
      "The behavior will change in pandas 3.0. This inplace method will never work because the intermediate object on which we are setting values always behaves as a copy.\n",
      "\n",
      "For example, when doing 'df[col].method(value, inplace=True)', try using 'df.method({col: value}, inplace=True)' or df[col] = df[col].method(value) instead, to perform the operation inplace on the original object.\n",
      "\n",
      "\n",
      "  df1['gender'].fillna(mode_value, inplace=True)\n"
     ]
    }
   ],
   "source": [
    "df1['gender'].fillna(mode_value, inplace=True)"
   ]
  },
  {
   "cell_type": "code",
   "execution_count": 32,
   "id": "5ef89ec2-f9ed-429d-8637-51ec5b947b5e",
   "metadata": {},
   "outputs": [
    {
     "data": {
      "text/plain": [
       "793690.26"
      ]
     },
     "execution_count": 32,
     "metadata": {},
     "output_type": "execute_result"
    }
   ],
   "source": [
    "#finding mean value for customer lifetime \n",
    "mean_value = round(df1['customer_lifetime_value'].mean(),2)\n",
    "mean_value  #CALCULATING AVERAGE VALUE OF THE COLUMN"
   ]
  },
  {
   "cell_type": "code",
   "execution_count": 33,
   "id": "ee3a1d5b-622d-40fc-8dca-6a94d9bd5a72",
   "metadata": {},
   "outputs": [],
   "source": [
    "#filling nan with mean\n",
    "df1.fillna({\"customer_lifetime_value\":793690.26}, inplace=True)\n"
   ]
  },
  {
   "cell_type": "code",
   "execution_count": 34,
   "id": "9a5538da-59a9-49ee-b3e3-3c10e48d42e9",
   "metadata": {},
   "outputs": [
    {
     "data": {
      "text/plain": [
       "customer                     object\n",
       "state                        object\n",
       "gender                       object\n",
       "education                    object\n",
       "customer_lifetime_value       int64\n",
       "income                        int64\n",
       "monthly_premium_auto          int64\n",
       "number_of_open_complaints     int64\n",
       "policy_type                  object\n",
       "vehicle_class                object\n",
       "total_claim_amount            int64\n",
       "dtype: object"
      ]
     },
     "execution_count": 34,
     "metadata": {},
     "output_type": "execute_result"
    }
   ],
   "source": [
    "#all numeric values to integers \n",
    "df1 = df1.apply(lambda x: x.astype(int) if x.dtype == 'float64' else x)\n",
    "df1.dtypes"
   ]
  },
  {
   "cell_type": "code",
   "execution_count": null,
   "id": "a019623b-19a0-4a39-86ec-2c478c4a8ce6",
   "metadata": {
    "id": "98416351-e999-4156-9834-9b00a311adfa"
   },
   "outputs": [],
   "source": [
    "#Dealing with duplicates"
   ]
  },
  {
   "cell_type": "code",
   "execution_count": 37,
   "id": "1929362c-47ed-47cb-baca-358b78d401a0",
   "metadata": {
    "id": "1929362c-47ed-47cb-baca-358b78d401a0"
   },
   "outputs": [
    {
     "data": {
      "text/plain": [
       "0"
      ]
     },
     "execution_count": 37,
     "metadata": {},
     "output_type": "execute_result"
    }
   ],
   "source": [
    "df1.duplicated().sum()"
   ]
  },
  {
   "cell_type": "code",
   "execution_count": 38,
   "id": "e15e0fb3-85b8-4a5c-bb5a-183ad39fce97",
   "metadata": {},
   "outputs": [
    {
     "data": {
      "text/plain": [
       "0"
      ]
     },
     "execution_count": 38,
     "metadata": {},
     "output_type": "execute_result"
    }
   ],
   "source": [
    "df1.drop_duplicates(inplace=True)\n",
    "df1.duplicated().sum()"
   ]
  },
  {
   "cell_type": "markdown",
   "id": "115082c4-ec04-402a-8cbe-69a7dc7a5519",
   "metadata": {},
   "source": [
    "# CHALLENGE 1"
   ]
  },
  {
   "cell_type": "code",
   "execution_count": 40,
   "id": "02d05878-eff9-4903-8680-4fa95df7dafc",
   "metadata": {},
   "outputs": [],
   "source": [
    "#New Data frames \n",
    "\n",
    "url_2 = \"https://raw.githubusercontent.com/data-bootcamp-v4/data/main/file2.csv\"\n",
    "df_2 = pd.read_csv(url_2)\n",
    "\n",
    "url_3= \"https://raw.githubusercontent.com/data-bootcamp-v4/data/main/file3.csv\"\n",
    "df_3 = pd.read_csv(url_3)\n"
   ]
  },
  {
   "cell_type": "code",
   "execution_count": 41,
   "id": "87d0a24b-36ff-49a3-a727-57d0b4152e60",
   "metadata": {},
   "outputs": [],
   "source": [
    "#cleaning Dataframe 2 \n",
    "df_2.columns = df_2.columns.str.lower().str.replace(\" \", \"_\") #standardizing columns\n",
    "df_2.rename(columns = {\"st\":\"state\"},inplace = True) #renaming states\n",
    "df_2 [\"gender\"] = df_2[\"gender\"].replace([\"F\", \"M\", \"Femal\", \"female\"],[\"Female\", \"Male\", \"Female\",\"Female\"]) # standardizinggender\n",
    "df_2[\"state\"] = df_2[\"state\"].replace([\"AZ\", \"Cali\", \"WA\"],[\"Arizona\", \"California\", \"Washington\"]) #standardizing state names\n",
    "df_2[\"education\"] = df_2[\"education\"].replace(\"Bachelors\", \"Bachelor\")\n",
    "df_2['customer_lifetime_value'] = df_2['customer_lifetime_value'].str.replace('%','')\n",
    "df_2[\"vehicle_class\"] = df_2[\"vehicle_class\"].replace([\"Sports Car\", \"Luxury SUV\", \"Luxury Car\"], \"Luxury\")"
   ]
  },
  {
   "cell_type": "code",
   "execution_count": 42,
   "id": "d6f39ead-edd0-4bc5-bd77-069bd0d4058d",
   "metadata": {},
   "outputs": [],
   "source": [
    "#cleaning Dataframe 3\n",
    "\n",
    "df_3.columns = df_3.columns.str.lower().str.replace(\" \", \"_\") #standardizing columns\n",
    "df_3.rename(columns = {\"st\":\"state\"},inplace = True) #renaming state\n",
    "df_3[\"gender\"] = df_3[\"gender\"].replace([\"F\", \"M\", \"Femal\", \"female\"],[\"Female\", \"Male\", \"Female\",\"Female\"]) #standardizing gender\n",
    "df_3[\"state\"] = df_3[\"state\"].replace([\"AZ\", \"Cali\", \"WA\"],[\"Arizona\", \"California\", \"Washington\"]) #standardizing state names\n",
    "df_3[\"education\"] = df_3[\"education\"].replace(\"Bachelors\", \"Bachelor\")\n",
    "df_3[\"vehicle_class\"] = df_3[\"vehicle_class\"].replace([\"Sports Car\", \"Luxury SUV\", \"Luxury Car\"], \"Luxury\")\n"
   ]
  },
  {
   "cell_type": "markdown",
   "id": "df0b4895-b1dc-40be-98ff-ff3158b39be8",
   "metadata": {},
   "source": [
    "# formatting dataframes 2 and 3"
   ]
  },
  {
   "cell_type": "code",
   "execution_count": 45,
   "id": "137b2f33-06ef-42e1-8cfa-3f2907f96026",
   "metadata": {},
   "outputs": [],
   "source": [
    "\n",
    "df_2['customer_lifetime_value'] = df_2['customer_lifetime_value'].str.replace('%','')\n"
   ]
  },
  {
   "cell_type": "code",
   "execution_count": 46,
   "id": "dc3872a4-fa77-417f-b8f0-8667f1974ca1",
   "metadata": {},
   "outputs": [],
   "source": [
    "#customer lifetime value to numeric\n",
    "df_2[\"customer_lifetime_value\"] = pd.to_numeric(df_2[\"customer_lifetime_value\"])"
   ]
  },
  {
   "cell_type": "code",
   "execution_count": 47,
   "id": "604b89b9-0591-4271-a40a-ede14ead1616",
   "metadata": {},
   "outputs": [
    {
     "data": {
      "text/plain": [
       "array(['0', '1', '3', '5', '2', '4'], dtype=object)"
      ]
     },
     "execution_count": 47,
     "metadata": {},
     "output_type": "execute_result"
    }
   ],
   "source": [
    "#formatting number of open complaints dataframe 2 by splitting strings\n",
    "df_2[\"number_of_open_complaints\"].unique()  #checking unique values\n",
    "df_2['number_of_open_complaints'] = df_2['number_of_open_complaints'].str.split('/').str[1]\n",
    "df_2[\"number_of_open_complaints\"].unique()"
   ]
  },
  {
   "cell_type": "code",
   "execution_count": 48,
   "id": "2fe9ca52-b108-48a7-9a07-f0f211a09b13",
   "metadata": {},
   "outputs": [
    {
     "data": {
      "text/plain": [
       "dtype('int64')"
      ]
     },
     "execution_count": 48,
     "metadata": {},
     "output_type": "execute_result"
    }
   ],
   "source": [
    "#formatting number of open complaints of data frame 2 to numeric\n",
    "df_2[\"number_of_open_complaints\"]= pd.to_numeric(df_2[\"number_of_open_complaints\"], errors='coerce')\n",
    "df_2[\"number_of_open_complaints\"].dtype \n"
   ]
  },
  {
   "cell_type": "code",
   "execution_count": 50,
   "id": "2b95b4c9-b994-496a-927f-bcc6ee696e3a",
   "metadata": {},
   "outputs": [
    {
     "data": {
      "text/plain": [
       "customer                      object\n",
       "state                         object\n",
       "customer_lifetime_value      float64\n",
       "education                     object\n",
       "gender                        object\n",
       "income                         int64\n",
       "monthly_premium_auto           int64\n",
       "number_of_open_complaints      int64\n",
       "policy_type                   object\n",
       "total_claim_amount           float64\n",
       "vehicle_class                 object\n",
       "dtype: object"
      ]
     },
     "execution_count": 50,
     "metadata": {},
     "output_type": "execute_result"
    }
   ],
   "source": [
    "df_3[\"customer_lifetime_value\"] =round(df_3[\"customer_lifetime_value\"],1)\n",
    "df_3[\"total_claim_amount\"] =round(df_3[\"total_claim_amount\"],1)\n",
    "df_3.dtypes"
   ]
  },
  {
   "cell_type": "code",
   "execution_count": 51,
   "id": "d9794343-e89a-4b16-b143-27a332100e75",
   "metadata": {},
   "outputs": [],
   "source": [
    "#Customer lifetime value and number of open complaints should be numeric\n",
    "\n",
    "df_3[\"number_of_open_complaints\"]= pd.to_numeric(df_3[\"number_of_open_complaints\"], errors=\"coerce\")\n",
    "df_3[\"customer_lifetime_value\"] = pd.to_numeric(df_3[\"customer_lifetime_value\"], errors = \"coerce\")"
   ]
  },
  {
   "cell_type": "markdown",
   "id": "3834555e-27b6-4a66-8988-2581b1765c49",
   "metadata": {},
   "source": [
    "# dropping and filling nans in dataframe #2 and dataframe #3\n",
    "\n"
   ]
  },
  {
   "cell_type": "code",
   "execution_count": 94,
   "id": "90a130d2-1904-406f-8d64-2a4adef298ed",
   "metadata": {},
   "outputs": [
    {
     "data": {
      "text/plain": [
       "customer                     0\n",
       "state                        0\n",
       "gender                       5\n",
       "education                    0\n",
       "customer_lifetime_value      4\n",
       "income                       0\n",
       "monthly_premium_auto         0\n",
       "number_of_open_complaints    0\n",
       "total_claim_amount           0\n",
       "policy_type                  0\n",
       "vehicle_class                0\n",
       "dtype: int64"
      ]
     },
     "execution_count": 94,
     "metadata": {},
     "output_type": "execute_result"
    }
   ],
   "source": [
    "#dataframe 2 has nans\n",
    "df_2.isnull().sum()  #checking for nans"
   ]
  },
  {
   "cell_type": "code",
   "execution_count": 106,
   "id": "f53accbf-65eb-4703-a024-0bb468295306",
   "metadata": {},
   "outputs": [
    {
     "data": {
      "text/plain": [
       "'Female'"
      ]
     },
     "execution_count": 106,
     "metadata": {},
     "output_type": "execute_result"
    }
   ],
   "source": [
    "mode_value = df_2['gender'].mode()[0]\n",
    "mode_value\n"
   ]
  },
  {
   "cell_type": "code",
   "execution_count": 108,
   "id": "d806560c-9a5d-4290-8265-1c4620e070e5",
   "metadata": {},
   "outputs": [],
   "source": [
    "df_2['gender'].fillna(mode_value, inplace=True)"
   ]
  },
  {
   "cell_type": "code",
   "execution_count": 110,
   "id": "3b8ca726-6f68-4d81-857e-8747ef5ccb08",
   "metadata": {},
   "outputs": [
    {
     "data": {
      "text/plain": [
       "765149.39"
      ]
     },
     "execution_count": 110,
     "metadata": {},
     "output_type": "execute_result"
    }
   ],
   "source": [
    "mean_value = round(df_2['customer_lifetime_value'].mean(),2)\n",
    "mean_value  #CALCULATING AVERAGE VALUE OF THE COLUMN"
   ]
  },
  {
   "cell_type": "code",
   "execution_count": 114,
   "id": "99909960-9ac3-4b76-bd71-1a811b7622db",
   "metadata": {},
   "outputs": [
    {
     "data": {
      "text/plain": [
       "customer                     0\n",
       "state                        0\n",
       "gender                       0\n",
       "education                    0\n",
       "customer_lifetime_value      0\n",
       "income                       0\n",
       "monthly_premium_auto         0\n",
       "number_of_open_complaints    0\n",
       "total_claim_amount           0\n",
       "policy_type                  0\n",
       "vehicle_class                0\n",
       "dtype: int64"
      ]
     },
     "execution_count": 114,
     "metadata": {},
     "output_type": "execute_result"
    }
   ],
   "source": [
    "df_2.fillna({\"customer_lifetime_value\":765149.39}, inplace=True)\n",
    "df_2.isna().sum()"
   ]
  },
  {
   "cell_type": "code",
   "execution_count": 120,
   "id": "7b29d315-3ffb-4d35-8390-265a9092f882",
   "metadata": {},
   "outputs": [
    {
     "data": {
      "text/plain": [
       "customer                     object\n",
       "state                        object\n",
       "gender                       object\n",
       "education                    object\n",
       "customer_lifetime_value       int64\n",
       "income                        int64\n",
       "monthly_premium_auto          int64\n",
       "number_of_open_complaints     int64\n",
       "total_claim_amount            int64\n",
       "policy_type                  object\n",
       "vehicle_class                object\n",
       "dtype: object"
      ]
     },
     "execution_count": 120,
     "metadata": {},
     "output_type": "execute_result"
    }
   ],
   "source": [
    "df_2 = df_2.apply(lambda x: x.astype(int) if x.dtype == 'float64' else x)\n",
    "df_2.dtypes"
   ]
  },
  {
   "cell_type": "code",
   "execution_count": 96,
   "id": "388d1cfb-e4a9-4a09-8bae-4e4ed35bf43b",
   "metadata": {},
   "outputs": [
    {
     "data": {
      "text/plain": [
       "customer                     0\n",
       "state                        0\n",
       "customer_lifetime_value      0\n",
       "education                    0\n",
       "gender                       0\n",
       "income                       0\n",
       "monthly_premium_auto         0\n",
       "number_of_open_complaints    0\n",
       "policy_type                  0\n",
       "total_claim_amount           0\n",
       "vehicle_class                0\n",
       "dtype: int64"
      ]
     },
     "execution_count": 96,
     "metadata": {},
     "output_type": "execute_result"
    }
   ],
   "source": [
    "df_3.isnull().sum()  #checking for nans"
   ]
  },
  {
   "cell_type": "code",
   "execution_count": 124,
   "id": "24510534-7481-479a-bdd0-cbeec3579fcc",
   "metadata": {},
   "outputs": [
    {
     "data": {
      "text/plain": [
       "customer                     object\n",
       "state                        object\n",
       "customer_lifetime_value       int64\n",
       "education                    object\n",
       "gender                       object\n",
       "income                        int64\n",
       "monthly_premium_auto          int64\n",
       "number_of_open_complaints     int64\n",
       "policy_type                  object\n",
       "total_claim_amount            int64\n",
       "vehicle_class                object\n",
       "dtype: object"
      ]
     },
     "execution_count": 124,
     "metadata": {},
     "output_type": "execute_result"
    }
   ],
   "source": [
    "df_3 = df_3.apply(lambda x: x.astype(int) if x.dtype == 'float64' else x)\n",
    "df_3.dtypes"
   ]
  },
  {
   "cell_type": "markdown",
   "id": "6cef4009-685a-4a94-b36d-82b7c6842828",
   "metadata": {},
   "source": [
    "# dealing with duplicates"
   ]
  },
  {
   "cell_type": "code",
   "execution_count": 126,
   "id": "20c7d2b3-11c7-40e5-ad24-8c4299876b9b",
   "metadata": {},
   "outputs": [
    {
     "data": {
      "text/plain": [
       "0"
      ]
     },
     "execution_count": 126,
     "metadata": {},
     "output_type": "execute_result"
    }
   ],
   "source": [
    "df_2.duplicated().sum()"
   ]
  },
  {
   "cell_type": "code",
   "execution_count": 128,
   "id": "a87ee890-363d-47d3-bba0-44c73d1f8513",
   "metadata": {},
   "outputs": [
    {
     "data": {
      "text/plain": [
       "0"
      ]
     },
     "execution_count": 128,
     "metadata": {},
     "output_type": "execute_result"
    }
   ],
   "source": [
    "df_3.duplicated().sum()"
   ]
  },
  {
   "cell_type": "code",
   "execution_count": 136,
   "id": "debecb50-effc-458d-9b1d-e42a61ffb670",
   "metadata": {},
   "outputs": [
    {
     "data": {
      "text/plain": [
       "(9137, 11)"
      ]
     },
     "execution_count": 136,
     "metadata": {},
     "output_type": "execute_result"
    }
   ],
   "source": [
    "# CHALLENGE 1 CONCATENATING ALL THREE DATA FRAMES\n",
    "df_4 = pd.concat([df1, df_2, df_3], axis = 0)\n",
    "df_4.shape"
   ]
  },
  {
   "cell_type": "markdown",
   "id": "ebdab1eb-2355-4e0f-945f-3ad423eb137f",
   "metadata": {},
   "source": [
    "# CHALLENGE 2 "
   ]
  },
  {
   "cell_type": "code",
   "execution_count": 346,
   "id": "ca33522e-820b-4ed1-8710-b4748b8a55ce",
   "metadata": {},
   "outputs": [],
   "source": [
    "#data cleaning, formatting, and structuring.\n",
    "url_4 = 'https://raw.githubusercontent.com/data-bootcamp-v4/data/main/marketing_customer_analysis_clean.csv'\n",
    "df_5 =pd.read_csv(url_4)"
   ]
  },
  {
   "cell_type": "code",
   "execution_count": 347,
   "id": "e9f8eafb-bd75-4072-95e0-aef8e0b75adb",
   "metadata": {},
   "outputs": [
    {
     "data": {
      "text/plain": [
       "(10910, 27)"
      ]
     },
     "execution_count": 347,
     "metadata": {},
     "output_type": "execute_result"
    }
   ],
   "source": [
    "df_5.shape"
   ]
  },
  {
   "cell_type": "code",
   "execution_count": 348,
   "id": "5aaea5db-fc63-4467-85b8-82cd90a139c2",
   "metadata": {},
   "outputs": [
    {
     "data": {
      "text/html": [
       "<div>\n",
       "<style scoped>\n",
       "    .dataframe tbody tr th:only-of-type {\n",
       "        vertical-align: middle;\n",
       "    }\n",
       "\n",
       "    .dataframe tbody tr th {\n",
       "        vertical-align: top;\n",
       "    }\n",
       "\n",
       "    .dataframe thead th {\n",
       "        text-align: right;\n",
       "    }\n",
       "</style>\n",
       "<table border=\"1\" class=\"dataframe\">\n",
       "  <thead>\n",
       "    <tr style=\"text-align: right;\">\n",
       "      <th></th>\n",
       "      <th>unnamed:_0</th>\n",
       "      <th>customer</th>\n",
       "      <th>state</th>\n",
       "      <th>customer_lifetime_value</th>\n",
       "      <th>response</th>\n",
       "      <th>coverage</th>\n",
       "      <th>education</th>\n",
       "      <th>effective_to_date</th>\n",
       "      <th>employmentstatus</th>\n",
       "      <th>gender</th>\n",
       "      <th>...</th>\n",
       "      <th>number_of_policies</th>\n",
       "      <th>policy_type</th>\n",
       "      <th>policy</th>\n",
       "      <th>renew_offer_type</th>\n",
       "      <th>sales_channel</th>\n",
       "      <th>total_claim_amount</th>\n",
       "      <th>vehicle_class</th>\n",
       "      <th>vehicle_size</th>\n",
       "      <th>vehicle_type</th>\n",
       "      <th>month</th>\n",
       "    </tr>\n",
       "  </thead>\n",
       "  <tbody>\n",
       "    <tr>\n",
       "      <th>0</th>\n",
       "      <td>0</td>\n",
       "      <td>DK49336</td>\n",
       "      <td>Arizona</td>\n",
       "      <td>4809.216960</td>\n",
       "      <td>No</td>\n",
       "      <td>Basic</td>\n",
       "      <td>College</td>\n",
       "      <td>2011-02-18</td>\n",
       "      <td>Employed</td>\n",
       "      <td>M</td>\n",
       "      <td>...</td>\n",
       "      <td>9</td>\n",
       "      <td>Corporate Auto</td>\n",
       "      <td>Corporate L3</td>\n",
       "      <td>Offer3</td>\n",
       "      <td>Agent</td>\n",
       "      <td>292.800000</td>\n",
       "      <td>Four-Door Car</td>\n",
       "      <td>Medsize</td>\n",
       "      <td>A</td>\n",
       "      <td>2</td>\n",
       "    </tr>\n",
       "    <tr>\n",
       "      <th>1</th>\n",
       "      <td>1</td>\n",
       "      <td>KX64629</td>\n",
       "      <td>California</td>\n",
       "      <td>2228.525238</td>\n",
       "      <td>No</td>\n",
       "      <td>Basic</td>\n",
       "      <td>College</td>\n",
       "      <td>2011-01-18</td>\n",
       "      <td>Unemployed</td>\n",
       "      <td>F</td>\n",
       "      <td>...</td>\n",
       "      <td>1</td>\n",
       "      <td>Personal Auto</td>\n",
       "      <td>Personal L3</td>\n",
       "      <td>Offer4</td>\n",
       "      <td>Call Center</td>\n",
       "      <td>744.924331</td>\n",
       "      <td>Four-Door Car</td>\n",
       "      <td>Medsize</td>\n",
       "      <td>A</td>\n",
       "      <td>1</td>\n",
       "    </tr>\n",
       "    <tr>\n",
       "      <th>2</th>\n",
       "      <td>2</td>\n",
       "      <td>LZ68649</td>\n",
       "      <td>Washington</td>\n",
       "      <td>14947.917300</td>\n",
       "      <td>No</td>\n",
       "      <td>Basic</td>\n",
       "      <td>Bachelor</td>\n",
       "      <td>2011-02-10</td>\n",
       "      <td>Employed</td>\n",
       "      <td>M</td>\n",
       "      <td>...</td>\n",
       "      <td>2</td>\n",
       "      <td>Personal Auto</td>\n",
       "      <td>Personal L3</td>\n",
       "      <td>Offer3</td>\n",
       "      <td>Call Center</td>\n",
       "      <td>480.000000</td>\n",
       "      <td>SUV</td>\n",
       "      <td>Medsize</td>\n",
       "      <td>A</td>\n",
       "      <td>2</td>\n",
       "    </tr>\n",
       "    <tr>\n",
       "      <th>3</th>\n",
       "      <td>3</td>\n",
       "      <td>XL78013</td>\n",
       "      <td>Oregon</td>\n",
       "      <td>22332.439460</td>\n",
       "      <td>Yes</td>\n",
       "      <td>Extended</td>\n",
       "      <td>College</td>\n",
       "      <td>2011-01-11</td>\n",
       "      <td>Employed</td>\n",
       "      <td>M</td>\n",
       "      <td>...</td>\n",
       "      <td>2</td>\n",
       "      <td>Corporate Auto</td>\n",
       "      <td>Corporate L3</td>\n",
       "      <td>Offer2</td>\n",
       "      <td>Branch</td>\n",
       "      <td>484.013411</td>\n",
       "      <td>Four-Door Car</td>\n",
       "      <td>Medsize</td>\n",
       "      <td>A</td>\n",
       "      <td>1</td>\n",
       "    </tr>\n",
       "    <tr>\n",
       "      <th>4</th>\n",
       "      <td>4</td>\n",
       "      <td>QA50777</td>\n",
       "      <td>Oregon</td>\n",
       "      <td>9025.067525</td>\n",
       "      <td>No</td>\n",
       "      <td>Premium</td>\n",
       "      <td>Bachelor</td>\n",
       "      <td>2011-01-17</td>\n",
       "      <td>Medical Leave</td>\n",
       "      <td>F</td>\n",
       "      <td>...</td>\n",
       "      <td>7</td>\n",
       "      <td>Personal Auto</td>\n",
       "      <td>Personal L2</td>\n",
       "      <td>Offer1</td>\n",
       "      <td>Branch</td>\n",
       "      <td>707.925645</td>\n",
       "      <td>Four-Door Car</td>\n",
       "      <td>Medsize</td>\n",
       "      <td>A</td>\n",
       "      <td>1</td>\n",
       "    </tr>\n",
       "  </tbody>\n",
       "</table>\n",
       "<p>5 rows × 27 columns</p>\n",
       "</div>"
      ],
      "text/plain": [
       "   unnamed:_0 customer       state  customer_lifetime_value response  \\\n",
       "0           0  DK49336     Arizona              4809.216960       No   \n",
       "1           1  KX64629  California              2228.525238       No   \n",
       "2           2  LZ68649  Washington             14947.917300       No   \n",
       "3           3  XL78013      Oregon             22332.439460      Yes   \n",
       "4           4  QA50777      Oregon              9025.067525       No   \n",
       "\n",
       "   coverage education effective_to_date employmentstatus gender  ...  \\\n",
       "0     Basic   College        2011-02-18         Employed      M  ...   \n",
       "1     Basic   College        2011-01-18       Unemployed      F  ...   \n",
       "2     Basic  Bachelor        2011-02-10         Employed      M  ...   \n",
       "3  Extended   College        2011-01-11         Employed      M  ...   \n",
       "4   Premium  Bachelor        2011-01-17    Medical Leave      F  ...   \n",
       "\n",
       "   number_of_policies     policy_type        policy  renew_offer_type  \\\n",
       "0                   9  Corporate Auto  Corporate L3            Offer3   \n",
       "1                   1   Personal Auto   Personal L3            Offer4   \n",
       "2                   2   Personal Auto   Personal L3            Offer3   \n",
       "3                   2  Corporate Auto  Corporate L3            Offer2   \n",
       "4                   7   Personal Auto   Personal L2            Offer1   \n",
       "\n",
       "   sales_channel  total_claim_amount  vehicle_class  vehicle_size  \\\n",
       "0          Agent          292.800000  Four-Door Car       Medsize   \n",
       "1    Call Center          744.924331  Four-Door Car       Medsize   \n",
       "2    Call Center          480.000000            SUV       Medsize   \n",
       "3         Branch          484.013411  Four-Door Car       Medsize   \n",
       "4         Branch          707.925645  Four-Door Car       Medsize   \n",
       "\n",
       "  vehicle_type month  \n",
       "0            A     2  \n",
       "1            A     1  \n",
       "2            A     2  \n",
       "3            A     1  \n",
       "4            A     1  \n",
       "\n",
       "[5 rows x 27 columns]"
      ]
     },
     "execution_count": 348,
     "metadata": {},
     "output_type": "execute_result"
    }
   ],
   "source": [
    "df_5.head()"
   ]
  },
  {
   "cell_type": "code",
   "execution_count": 349,
   "id": "cf710801-812a-4b7a-9153-40e08af89a19",
   "metadata": {},
   "outputs": [
    {
     "data": {
      "text/plain": [
       "Index(['unnamed:_0', 'customer', 'state', 'customer_lifetime_value',\n",
       "       'response', 'coverage', 'education', 'effective_to_date',\n",
       "       'employmentstatus', 'gender', 'income', 'location_code',\n",
       "       'marital_status', 'monthly_premium_auto', 'months_since_last_claim',\n",
       "       'months_since_policy_inception', 'number_of_open_complaints',\n",
       "       'number_of_policies', 'policy_type', 'policy', 'renew_offer_type',\n",
       "       'sales_channel', 'total_claim_amount', 'vehicle_class', 'vehicle_size',\n",
       "       'vehicle_type', 'month'],\n",
       "      dtype='object')"
      ]
     },
     "execution_count": 349,
     "metadata": {},
     "output_type": "execute_result"
    }
   ],
   "source": [
    "df_5.columns"
   ]
  },
  {
   "cell_type": "code",
   "execution_count": 350,
   "id": "67d49370-421a-4cd9-9bca-51e99ad77b88",
   "metadata": {},
   "outputs": [],
   "source": [
    "df_5.columns = df_5.columns.str.lower().str.replace(\" \", \"_\") #standardizing columns\n",
    "df_5.rename(columns = {\"st\":\"state\"},inplace = True) #renaming states\n",
    "df_5.rename(columns = {\"unnamed:_0\":\"number\"},inplace = True) #renaming first column\n",
    "df_5.rename(columns = {\"employmentstatus\":\"employment_status\"},inplace = True) #renaming states\n"
   ]
  },
  {
   "cell_type": "code",
   "execution_count": 351,
   "id": "942a8bac-b732-402a-9a98-d6a52b85d5f1",
   "metadata": {},
   "outputs": [],
   "source": [
    "df_5['customer_lifetime_value'] = round(df_5['customer_lifetime_value'],2)\n",
    "df_5['total_claim_amount'] = round(df_5['total_claim_amount'],2)\n",
    "df_5['number_of_open_complaints'] = round(df_5['number_of_open_complaints'],2)\n",
    "df_5['months_since_last_claim'] = round(df_5['months_since_last_claim'],2)"
   ]
  },
  {
   "cell_type": "code",
   "execution_count": 352,
   "id": "4a574779-eba9-4ccb-a042-46d7cc73f568",
   "metadata": {},
   "outputs": [],
   "source": [
    "df_5[\"vehicle_class\"] = df_5[\"vehicle_class\"].replace([\"Sports Car\", \"Luxury SUV\", \"Luxury Car\"], \"Luxury\")"
   ]
  },
  {
   "cell_type": "code",
   "execution_count": 353,
   "id": "60530593-618b-4b52-bd52-38a7bf62244e",
   "metadata": {},
   "outputs": [
    {
     "data": {
      "text/plain": [
       "number                             int64\n",
       "customer                          object\n",
       "state                             object\n",
       "customer_lifetime_value          float64\n",
       "response                          object\n",
       "coverage                          object\n",
       "education                         object\n",
       "effective_to_date                 object\n",
       "employment_status                 object\n",
       "gender                            object\n",
       "income                             int64\n",
       "location_code                     object\n",
       "marital_status                    object\n",
       "monthly_premium_auto               int64\n",
       "months_since_last_claim          float64\n",
       "months_since_policy_inception      int64\n",
       "number_of_open_complaints        float64\n",
       "number_of_policies                 int64\n",
       "policy_type                       object\n",
       "policy                            object\n",
       "renew_offer_type                  object\n",
       "sales_channel                     object\n",
       "total_claim_amount               float64\n",
       "vehicle_class                     object\n",
       "vehicle_size                      object\n",
       "vehicle_type                      object\n",
       "month                              int64\n",
       "dtype: object"
      ]
     },
     "execution_count": 353,
     "metadata": {},
     "output_type": "execute_result"
    }
   ],
   "source": [
    "df_5.dtypes\n"
   ]
  },
  {
   "cell_type": "code",
   "execution_count": 354,
   "id": "2738d571-b8bf-4558-a26e-b6081c3fe9f1",
   "metadata": {},
   "outputs": [],
   "source": [
    "#converting to numeric\n",
    "df_5[\"customer_lifetime_value\"] = pd.to_numeric(df_5[\"customer_lifetime_value\"])"
   ]
  },
  {
   "cell_type": "code",
   "execution_count": 355,
   "id": "54aa4289-1af3-4853-9e17-ef3e87440e11",
   "metadata": {},
   "outputs": [],
   "source": [
    "#converting to numeric\n",
    "df_5[\"months_since_last_claim\"] = pd.to_numeric(df_5[\"months_since_last_claim\"])"
   ]
  },
  {
   "cell_type": "code",
   "execution_count": 356,
   "id": "f1ed9bd2-50d1-48b2-9055-a5bd792c8ca1",
   "metadata": {},
   "outputs": [],
   "source": [
    "#converting to numeric\n",
    "df_5[\"number_of_open_complaints\"] = pd.to_numeric(df_5[\"number_of_open_complaints\"])"
   ]
  },
  {
   "cell_type": "code",
   "execution_count": 357,
   "id": "90a2c640-d0c7-4411-94c9-82c80c183b77",
   "metadata": {},
   "outputs": [
    {
     "data": {
      "text/plain": [
       "number                           0\n",
       "customer                         0\n",
       "state                            0\n",
       "customer_lifetime_value          0\n",
       "response                         0\n",
       "coverage                         0\n",
       "education                        0\n",
       "effective_to_date                0\n",
       "employment_status                0\n",
       "gender                           0\n",
       "income                           0\n",
       "location_code                    0\n",
       "marital_status                   0\n",
       "monthly_premium_auto             0\n",
       "months_since_last_claim          0\n",
       "months_since_policy_inception    0\n",
       "number_of_open_complaints        0\n",
       "number_of_policies               0\n",
       "policy_type                      0\n",
       "policy                           0\n",
       "renew_offer_type                 0\n",
       "sales_channel                    0\n",
       "total_claim_amount               0\n",
       "vehicle_class                    0\n",
       "vehicle_size                     0\n",
       "vehicle_type                     0\n",
       "month                            0\n",
       "dtype: int64"
      ]
     },
     "execution_count": 357,
     "metadata": {},
     "output_type": "execute_result"
    }
   ],
   "source": [
    "#dropping nans\n",
    "df_5.isna().sum()"
   ]
  },
  {
   "cell_type": "code",
   "execution_count": 358,
   "id": "eb1b8edf-04d4-4dec-a33c-21feabae576b",
   "metadata": {},
   "outputs": [],
   "source": [
    "df_5 = df_5.apply(lambda x: x.astype(int) if x.dtype == 'float64' else x)\n"
   ]
  },
  {
   "cell_type": "code",
   "execution_count": 359,
   "id": "a24579f5-7d24-43a3-9bed-1e4d655306d2",
   "metadata": {},
   "outputs": [
    {
     "data": {
      "text/plain": [
       "0"
      ]
     },
     "execution_count": 359,
     "metadata": {},
     "output_type": "execute_result"
    }
   ],
   "source": [
    "df_5.duplicated().sum()"
   ]
  },
  {
   "cell_type": "markdown",
   "id": "30e96ae4-1fff-4027-aa5c-8663e8d78602",
   "metadata": {},
   "source": [
    "# You work at the marketing department and you want to know which sales channel brought the most sales in terms of total revenue. Using pivot, create a summary table showing the total revenue for each sales channel (branch, call center, web, and mail). Round the total revenue to 2 decimal points. Analyze the resulting table to draw insights.\n"
   ]
  },
  {
   "cell_type": "code",
   "execution_count": 362,
   "id": "22f38a6c-a820-4448-9dde-81bd23142642",
   "metadata": {},
   "outputs": [],
   "source": [
    "pivot_df = df_5.pivot_table(index='number', columns='sales_channel', values= 'income')"
   ]
  },
  {
   "cell_type": "code",
   "execution_count": 364,
   "id": "a219193f-5d62-4a6f-b8f6-55554b9db339",
   "metadata": {},
   "outputs": [
    {
     "data": {
      "text/html": [
       "<div>\n",
       "<style scoped>\n",
       "    .dataframe tbody tr th:only-of-type {\n",
       "        vertical-align: middle;\n",
       "    }\n",
       "\n",
       "    .dataframe tbody tr th {\n",
       "        vertical-align: top;\n",
       "    }\n",
       "\n",
       "    .dataframe thead th {\n",
       "        text-align: right;\n",
       "    }\n",
       "</style>\n",
       "<table border=\"1\" class=\"dataframe\">\n",
       "  <thead>\n",
       "    <tr style=\"text-align: right;\">\n",
       "      <th>sales_channel</th>\n",
       "      <th>Agent</th>\n",
       "      <th>Branch</th>\n",
       "      <th>Call Center</th>\n",
       "      <th>Web</th>\n",
       "    </tr>\n",
       "    <tr>\n",
       "      <th>number</th>\n",
       "      <th></th>\n",
       "      <th></th>\n",
       "      <th></th>\n",
       "      <th></th>\n",
       "    </tr>\n",
       "  </thead>\n",
       "  <tbody>\n",
       "    <tr>\n",
       "      <th>0</th>\n",
       "      <td>48029.0</td>\n",
       "      <td>NaN</td>\n",
       "      <td>NaN</td>\n",
       "      <td>NaN</td>\n",
       "    </tr>\n",
       "    <tr>\n",
       "      <th>1</th>\n",
       "      <td>NaN</td>\n",
       "      <td>NaN</td>\n",
       "      <td>0.0</td>\n",
       "      <td>NaN</td>\n",
       "    </tr>\n",
       "    <tr>\n",
       "      <th>2</th>\n",
       "      <td>NaN</td>\n",
       "      <td>NaN</td>\n",
       "      <td>22139.0</td>\n",
       "      <td>NaN</td>\n",
       "    </tr>\n",
       "    <tr>\n",
       "      <th>3</th>\n",
       "      <td>NaN</td>\n",
       "      <td>49078.0</td>\n",
       "      <td>NaN</td>\n",
       "      <td>NaN</td>\n",
       "    </tr>\n",
       "    <tr>\n",
       "      <th>4</th>\n",
       "      <td>NaN</td>\n",
       "      <td>23675.0</td>\n",
       "      <td>NaN</td>\n",
       "      <td>NaN</td>\n",
       "    </tr>\n",
       "    <tr>\n",
       "      <th>...</th>\n",
       "      <td>...</td>\n",
       "      <td>...</td>\n",
       "      <td>...</td>\n",
       "      <td>...</td>\n",
       "    </tr>\n",
       "    <tr>\n",
       "      <th>10905</th>\n",
       "      <td>NaN</td>\n",
       "      <td>NaN</td>\n",
       "      <td>NaN</td>\n",
       "      <td>0.0</td>\n",
       "    </tr>\n",
       "    <tr>\n",
       "      <th>10906</th>\n",
       "      <td>NaN</td>\n",
       "      <td>61146.0</td>\n",
       "      <td>NaN</td>\n",
       "      <td>NaN</td>\n",
       "    </tr>\n",
       "    <tr>\n",
       "      <th>10907</th>\n",
       "      <td>NaN</td>\n",
       "      <td>NaN</td>\n",
       "      <td>NaN</td>\n",
       "      <td>39837.0</td>\n",
       "    </tr>\n",
       "    <tr>\n",
       "      <th>10908</th>\n",
       "      <td>NaN</td>\n",
       "      <td>64195.0</td>\n",
       "      <td>NaN</td>\n",
       "      <td>NaN</td>\n",
       "    </tr>\n",
       "    <tr>\n",
       "      <th>10909</th>\n",
       "      <td>NaN</td>\n",
       "      <td>NaN</td>\n",
       "      <td>NaN</td>\n",
       "      <td>0.0</td>\n",
       "    </tr>\n",
       "  </tbody>\n",
       "</table>\n",
       "<p>10910 rows × 4 columns</p>\n",
       "</div>"
      ],
      "text/plain": [
       "sales_channel    Agent   Branch  Call Center      Web\n",
       "number                                               \n",
       "0              48029.0      NaN          NaN      NaN\n",
       "1                  NaN      NaN          0.0      NaN\n",
       "2                  NaN      NaN      22139.0      NaN\n",
       "3                  NaN  49078.0          NaN      NaN\n",
       "4                  NaN  23675.0          NaN      NaN\n",
       "...                ...      ...          ...      ...\n",
       "10905              NaN      NaN          NaN      0.0\n",
       "10906              NaN  61146.0          NaN      NaN\n",
       "10907              NaN      NaN          NaN  39837.0\n",
       "10908              NaN  64195.0          NaN      NaN\n",
       "10909              NaN      NaN          NaN      0.0\n",
       "\n",
       "[10910 rows x 4 columns]"
      ]
     },
     "execution_count": 364,
     "metadata": {},
     "output_type": "execute_result"
    }
   ],
   "source": [
    "pivot_df"
   ]
  },
  {
   "cell_type": "code",
   "execution_count": 370,
   "id": "2f341c31-616b-496c-b5c2-46cf36f04eb8",
   "metadata": {},
   "outputs": [
    {
     "data": {
      "text/plain": [
       "sales_channel\n",
       "Agent          6789\n",
       "Branch         7888\n",
       "Call Center    8769\n",
       "Web            9284\n",
       "dtype: int64"
      ]
     },
     "execution_count": 370,
     "metadata": {},
     "output_type": "execute_result"
    }
   ],
   "source": [
    "pivot_df.isna().sum()"
   ]
  },
  {
   "cell_type": "code",
   "execution_count": 375,
   "id": "1088e8f9-205d-492b-b476-4050fcf578ad",
   "metadata": {},
   "outputs": [
    {
     "data": {
      "text/html": [
       "<div>\n",
       "<style scoped>\n",
       "    .dataframe tbody tr th:only-of-type {\n",
       "        vertical-align: middle;\n",
       "    }\n",
       "\n",
       "    .dataframe tbody tr th {\n",
       "        vertical-align: top;\n",
       "    }\n",
       "\n",
       "    .dataframe thead th {\n",
       "        text-align: right;\n",
       "    }\n",
       "</style>\n",
       "<table border=\"1\" class=\"dataframe\">\n",
       "  <thead>\n",
       "    <tr style=\"text-align: right;\">\n",
       "      <th>sales_channel</th>\n",
       "      <th>Agent</th>\n",
       "      <th>Branch</th>\n",
       "      <th>Call Center</th>\n",
       "      <th>Web</th>\n",
       "    </tr>\n",
       "  </thead>\n",
       "  <tbody>\n",
       "    <tr>\n",
       "      <th>count</th>\n",
       "      <td>4121.000000</td>\n",
       "      <td>3022.000000</td>\n",
       "      <td>2141.000000</td>\n",
       "      <td>1626.000000</td>\n",
       "    </tr>\n",
       "    <tr>\n",
       "      <th>mean</th>\n",
       "      <td>37003.191458</td>\n",
       "      <td>37649.109199</td>\n",
       "      <td>37858.479215</td>\n",
       "      <td>38253.445879</td>\n",
       "    </tr>\n",
       "    <tr>\n",
       "      <th>std</th>\n",
       "      <td>30290.475139</td>\n",
       "      <td>30190.432334</td>\n",
       "      <td>30347.098745</td>\n",
       "      <td>30862.888618</td>\n",
       "    </tr>\n",
       "    <tr>\n",
       "      <th>min</th>\n",
       "      <td>0.000000</td>\n",
       "      <td>0.000000</td>\n",
       "      <td>0.000000</td>\n",
       "      <td>0.000000</td>\n",
       "    </tr>\n",
       "    <tr>\n",
       "      <th>25%</th>\n",
       "      <td>0.000000</td>\n",
       "      <td>10242.500000</td>\n",
       "      <td>0.000000</td>\n",
       "      <td>0.000000</td>\n",
       "    </tr>\n",
       "    <tr>\n",
       "      <th>50%</th>\n",
       "      <td>33701.000000</td>\n",
       "      <td>33304.500000</td>\n",
       "      <td>34923.000000</td>\n",
       "      <td>34029.000000</td>\n",
       "    </tr>\n",
       "    <tr>\n",
       "      <th>75%</th>\n",
       "      <td>60880.000000</td>\n",
       "      <td>62339.250000</td>\n",
       "      <td>62873.000000</td>\n",
       "      <td>64801.000000</td>\n",
       "    </tr>\n",
       "    <tr>\n",
       "      <th>max</th>\n",
       "      <td>99961.000000</td>\n",
       "      <td>99845.000000</td>\n",
       "      <td>99875.000000</td>\n",
       "      <td>99981.000000</td>\n",
       "    </tr>\n",
       "  </tbody>\n",
       "</table>\n",
       "</div>"
      ],
      "text/plain": [
       "sales_channel         Agent        Branch   Call Center           Web\n",
       "count           4121.000000   3022.000000   2141.000000   1626.000000\n",
       "mean           37003.191458  37649.109199  37858.479215  38253.445879\n",
       "std            30290.475139  30190.432334  30347.098745  30862.888618\n",
       "min                0.000000      0.000000      0.000000      0.000000\n",
       "25%                0.000000  10242.500000      0.000000      0.000000\n",
       "50%            33701.000000  33304.500000  34923.000000  34029.000000\n",
       "75%            60880.000000  62339.250000  62873.000000  64801.000000\n",
       "max            99961.000000  99845.000000  99875.000000  99981.000000"
      ]
     },
     "execution_count": 375,
     "metadata": {},
     "output_type": "execute_result"
    }
   ],
   "source": [
    "pivot_df.describe() #analyzing the new table"
   ]
  },
  {
   "cell_type": "code",
   "execution_count": 383,
   "id": "c8204114-6f1a-4cc0-9a5e-0ceda029266b",
   "metadata": {},
   "outputs": [],
   "source": [
    "new_df= round(pivot_df.describe(),2)  #rounding it off to two decimal points"
   ]
  },
  {
   "cell_type": "markdown",
   "id": "7e7ffaac-ce1d-4d95-8d5b-5d3370692461",
   "metadata": {},
   "source": [
    "# Create a pivot table that shows the average customer lifetime value per gender and education level. Analyze the resulting table to draw insights."
   ]
  },
  {
   "cell_type": "code",
   "execution_count": 389,
   "id": "f57e2cdc-7805-4a2a-8598-0259f5320fbd",
   "metadata": {},
   "outputs": [
    {
     "data": {
      "text/html": [
       "<div>\n",
       "<style scoped>\n",
       "    .dataframe tbody tr th:only-of-type {\n",
       "        vertical-align: middle;\n",
       "    }\n",
       "\n",
       "    .dataframe tbody tr th {\n",
       "        vertical-align: top;\n",
       "    }\n",
       "\n",
       "    .dataframe thead th {\n",
       "        text-align: right;\n",
       "    }\n",
       "</style>\n",
       "<table border=\"1\" class=\"dataframe\">\n",
       "  <thead>\n",
       "    <tr style=\"text-align: right;\">\n",
       "      <th>education</th>\n",
       "      <th>Bachelor</th>\n",
       "      <th>College</th>\n",
       "      <th>Doctor</th>\n",
       "      <th>High School or Below</th>\n",
       "      <th>Master</th>\n",
       "    </tr>\n",
       "    <tr>\n",
       "      <th>gender</th>\n",
       "      <th></th>\n",
       "      <th></th>\n",
       "      <th></th>\n",
       "      <th></th>\n",
       "      <th></th>\n",
       "    </tr>\n",
       "  </thead>\n",
       "  <tbody>\n",
       "    <tr>\n",
       "      <th>F</th>\n",
       "      <td>7873.794706</td>\n",
       "      <td>7748.316542</td>\n",
       "      <td>7328.000000</td>\n",
       "      <td>8674.722013</td>\n",
       "      <td>8156.536842</td>\n",
       "    </tr>\n",
       "    <tr>\n",
       "      <th>M</th>\n",
       "      <td>7703.095420</td>\n",
       "      <td>8051.946742</td>\n",
       "      <td>7414.865672</td>\n",
       "      <td>8149.192802</td>\n",
       "      <td>8168.344660</td>\n",
       "    </tr>\n",
       "  </tbody>\n",
       "</table>\n",
       "</div>"
      ],
      "text/plain": [
       "education     Bachelor      College       Doctor  High School or Below  \\\n",
       "gender                                                                   \n",
       "F          7873.794706  7748.316542  7328.000000           8674.722013   \n",
       "M          7703.095420  8051.946742  7414.865672           8149.192802   \n",
       "\n",
       "education       Master  \n",
       "gender                  \n",
       "F          8156.536842  \n",
       "M          8168.344660  "
      ]
     },
     "execution_count": 389,
     "metadata": {},
     "output_type": "execute_result"
    }
   ],
   "source": [
    "\n",
    "pivot_df2 = df_5.pivot_table(index='gender', columns='education', values= 'customer_lifetime_value')\n",
    "pivot_df2\n"
   ]
  },
  {
   "cell_type": "code",
   "execution_count": 391,
   "id": "b7e758c6-2013-4e34-ba67-5377c89dfbd7",
   "metadata": {},
   "outputs": [
    {
     "data": {
      "text/html": [
       "<div>\n",
       "<style scoped>\n",
       "    .dataframe tbody tr th:only-of-type {\n",
       "        vertical-align: middle;\n",
       "    }\n",
       "\n",
       "    .dataframe tbody tr th {\n",
       "        vertical-align: top;\n",
       "    }\n",
       "\n",
       "    .dataframe thead th {\n",
       "        text-align: right;\n",
       "    }\n",
       "</style>\n",
       "<table border=\"1\" class=\"dataframe\">\n",
       "  <thead>\n",
       "    <tr style=\"text-align: right;\">\n",
       "      <th>education</th>\n",
       "      <th>Bachelor</th>\n",
       "      <th>College</th>\n",
       "      <th>Doctor</th>\n",
       "      <th>High School or Below</th>\n",
       "      <th>Master</th>\n",
       "    </tr>\n",
       "  </thead>\n",
       "  <tbody>\n",
       "    <tr>\n",
       "      <th>count</th>\n",
       "      <td>2.000000</td>\n",
       "      <td>2.000000</td>\n",
       "      <td>2.000000</td>\n",
       "      <td>2.000000</td>\n",
       "      <td>2.000000</td>\n",
       "    </tr>\n",
       "    <tr>\n",
       "      <th>mean</th>\n",
       "      <td>7788.445063</td>\n",
       "      <td>7900.131642</td>\n",
       "      <td>7371.432836</td>\n",
       "      <td>8411.957407</td>\n",
       "      <td>8162.440751</td>\n",
       "    </tr>\n",
       "    <tr>\n",
       "      <th>std</th>\n",
       "      <td>120.702623</td>\n",
       "      <td>214.698973</td>\n",
       "      <td>61.423305</td>\n",
       "      <td>371.605268</td>\n",
       "      <td>8.349388</td>\n",
       "    </tr>\n",
       "    <tr>\n",
       "      <th>min</th>\n",
       "      <td>7703.095420</td>\n",
       "      <td>7748.316542</td>\n",
       "      <td>7328.000000</td>\n",
       "      <td>8149.192802</td>\n",
       "      <td>8156.536842</td>\n",
       "    </tr>\n",
       "    <tr>\n",
       "      <th>25%</th>\n",
       "      <td>7745.770241</td>\n",
       "      <td>7824.224092</td>\n",
       "      <td>7349.716418</td>\n",
       "      <td>8280.575105</td>\n",
       "      <td>8159.488797</td>\n",
       "    </tr>\n",
       "    <tr>\n",
       "      <th>50%</th>\n",
       "      <td>7788.445063</td>\n",
       "      <td>7900.131642</td>\n",
       "      <td>7371.432836</td>\n",
       "      <td>8411.957407</td>\n",
       "      <td>8162.440751</td>\n",
       "    </tr>\n",
       "    <tr>\n",
       "      <th>75%</th>\n",
       "      <td>7831.119884</td>\n",
       "      <td>7976.039192</td>\n",
       "      <td>7393.149254</td>\n",
       "      <td>8543.339710</td>\n",
       "      <td>8165.392706</td>\n",
       "    </tr>\n",
       "    <tr>\n",
       "      <th>max</th>\n",
       "      <td>7873.794706</td>\n",
       "      <td>8051.946742</td>\n",
       "      <td>7414.865672</td>\n",
       "      <td>8674.722013</td>\n",
       "      <td>8168.344660</td>\n",
       "    </tr>\n",
       "  </tbody>\n",
       "</table>\n",
       "</div>"
      ],
      "text/plain": [
       "education     Bachelor      College       Doctor  High School or Below  \\\n",
       "count         2.000000     2.000000     2.000000              2.000000   \n",
       "mean       7788.445063  7900.131642  7371.432836           8411.957407   \n",
       "std         120.702623   214.698973    61.423305            371.605268   \n",
       "min        7703.095420  7748.316542  7328.000000           8149.192802   \n",
       "25%        7745.770241  7824.224092  7349.716418           8280.575105   \n",
       "50%        7788.445063  7900.131642  7371.432836           8411.957407   \n",
       "75%        7831.119884  7976.039192  7393.149254           8543.339710   \n",
       "max        7873.794706  8051.946742  7414.865672           8674.722013   \n",
       "\n",
       "education       Master  \n",
       "count         2.000000  \n",
       "mean       8162.440751  \n",
       "std           8.349388  \n",
       "min        8156.536842  \n",
       "25%        8159.488797  \n",
       "50%        8162.440751  \n",
       "75%        8165.392706  \n",
       "max        8168.344660  "
      ]
     },
     "execution_count": 391,
     "metadata": {},
     "output_type": "execute_result"
    }
   ],
   "source": [
    "pivot_df2.describe() #analyzing the resulting table to draw insights "
   ]
  },
  {
   "cell_type": "markdown",
   "id": "4ab76f6a-d957-4904-a5b0-8c6d43092cb1",
   "metadata": {},
   "source": [
    "# BONUS \n",
    "You work at the customer service department and you want to know which months had the highest number of complaints by policy type category. Create a summary table showing the number of complaints by policy type and month. Show it in a long format table."
   ]
  },
  {
   "cell_type": "code",
   "execution_count": 411,
   "id": "26e51fb0-c038-4699-b8a2-8790fd74bf6e",
   "metadata": {},
   "outputs": [
    {
     "data": {
      "text/plain": [
       "number_of_open_complaints    0\n",
       "month                        0\n",
       "policy_type                  0\n",
       "dtype: int64"
      ]
     },
     "execution_count": 411,
     "metadata": {},
     "output_type": "execute_result"
    }
   ],
   "source": [
    "#make a new data set with the three columns\n",
    "\n",
    "new_df = df_5[[\"number_of_open_complaints\",\"month\", \"policy_type\"]].copy()\n",
    "new_df"
   ]
  },
  {
   "cell_type": "code",
   "execution_count": 413,
   "id": "211d1865-e5da-4ec8-b56c-80b1b506d911",
   "metadata": {},
   "outputs": [
    {
     "name": "stdout",
     "output_type": "stream",
     "text": [
      "<pandas.core.groupby.generic.DataFrameGroupBy object at 0x12bee9d00>\n"
     ]
    }
   ],
   "source": [
    "grouped = new_df.groupby(['policy_type', 'month'])\n",
    "print (grouped)"
   ]
  },
  {
   "cell_type": "code",
   "execution_count": 417,
   "id": "8a0f5cfe-0164-4daf-98ef-498e49383114",
   "metadata": {},
   "outputs": [
    {
     "name": "stdout",
     "output_type": "stream",
     "text": [
      "policy_type     month\n",
      "Corporate Auto  1         415\n",
      "                2         361\n",
      "Personal Auto   1        1635\n",
      "                2        1363\n",
      "Special Auto    1          84\n",
      "                2          91\n",
      "Name: number_of_open_complaints, dtype: int64\n"
     ]
    }
   ],
   "source": [
    "no_of_complaints = grouped['number_of_open_complaints'].sum()\n",
    "print (no_of_complaints)"
   ]
  },
  {
   "cell_type": "code",
   "execution_count": null,
   "id": "7ad9b486-7d79-43ed-ac8b-9ec001e0cea1",
   "metadata": {},
   "outputs": [],
   "source": []
  }
 ],
 "metadata": {
  "colab": {
   "provenance": []
  },
  "kernelspec": {
   "display_name": "Python 3 (ipykernel)",
   "language": "python",
   "name": "python3"
  },
  "language_info": {
   "codemirror_mode": {
    "name": "ipython",
    "version": 3
   },
   "file_extension": ".py",
   "mimetype": "text/x-python",
   "name": "python",
   "nbconvert_exporter": "python",
   "pygments_lexer": "ipython3",
   "version": "3.12.4"
  }
 },
 "nbformat": 4,
 "nbformat_minor": 5
}
